{
 "cells": [
  {
   "cell_type": "markdown",
   "metadata": {},
   "source": [
    "*Eduardus Tjitrahardja | @edutjie | 2022*"
   ]
  },
  {
   "cell_type": "markdown",
   "metadata": {},
   "source": [
    "# Predicting Number from Your Own Handwriting"
   ]
  },
  {
   "cell_type": "markdown",
   "metadata": {},
   "source": [
    "## Import Libraries"
   ]
  },
  {
   "cell_type": "code",
   "execution_count": 92,
   "metadata": {},
   "outputs": [],
   "source": [
    "import numpy as np\n",
    "import matplotlib.pyplot as plt\n",
    "%matplotlib inline\n",
    "from IPython.display import Image\n",
    "from helper import NeuralNetwork, image_rescaller\n",
    "import dill, glob"
   ]
  },
  {
   "cell_type": "markdown",
   "metadata": {},
   "source": [
    "## Load Trained Model"
   ]
  },
  {
   "cell_type": "code",
   "execution_count": 93,
   "metadata": {},
   "outputs": [],
   "source": [
    "nn = dill.load(open('model/nn_trained.pkl', 'rb'))"
   ]
  },
  {
   "cell_type": "markdown",
   "metadata": {},
   "source": [
    "## Load Own Image Dataset"
   ]
  },
  {
   "cell_type": "code",
   "execution_count": 94,
   "metadata": {},
   "outputs": [
    {
     "name": "stdout",
     "output_type": "stream",
     "text": [
      "loading ...  data/images\\my_own_2.png\n",
      "0.01\n",
      "1.0\n",
      "loading ...  data/images\\my_own_3.png\n",
      "0.01\n",
      "1.0\n",
      "loading ...  data/images\\my_own_3_1.png\n",
      "0.01\n",
      "1.0\n",
      "loading ...  data/images\\my_own_4.png\n",
      "0.01\n",
      "0.93011767\n",
      "loading ...  data/images\\my_own_5.png\n",
      "0.01\n",
      "0.86800003\n",
      "loading ...  data/images\\my_own_6.png\n",
      "0.01\n",
      "1.0\n",
      "loading ...  data/images\\my_own_6_1.png\n",
      "0.14588237\n",
      "0.77482355\n",
      "loading ...  data/images\\my_own_7.png\n",
      "0.01\n",
      "0.6750664\n",
      "loading ...  data/images\\my_own_7_1.png\n",
      "0.01\n",
      "0.7984166\n",
      "loading ...  data/images\\my_own_8.png\n",
      "0.01\n",
      "0.81006366\n",
      "loading ...  data/images\\my_own_9.png\n",
      "0.01\n",
      "0.77672595\n"
     ]
    }
   ],
   "source": [
    "# our own image test data set\n",
    "our_own_dataset = []\n",
    "\n",
    "# load the png image data as test data set\n",
    "for image_file_name in glob.glob(\"data/images/my_own_*.png\"):\n",
    "\n",
    "    # use the filename to set the correct label\n",
    "    label = int(image_file_name.split(\"_\")[2][0])\n",
    "\n",
    "    # load image data from png files into an array\n",
    "    print(\"loading ... \", image_file_name)\n",
    "    img_data = image_rescaller(image_file_name)\n",
    "\n",
    "    print(np.min(img_data))\n",
    "    print(np.max(img_data))\n",
    "\n",
    "    # append label and image data  to test data set\n",
    "    record = np.append(label, img_data)\n",
    "    our_own_dataset.append(record)\n"
   ]
  },
  {
   "cell_type": "markdown",
   "metadata": {},
   "source": [
    "## Plot Own Image Dataset"
   ]
  },
  {
   "cell_type": "code",
   "execution_count": 95,
   "metadata": {},
   "outputs": [],
   "source": [
    "item = 0"
   ]
  },
  {
   "cell_type": "code",
   "execution_count": 96,
   "metadata": {},
   "outputs": [],
   "source": [
    "def plot_handwriting(data):\n",
    "    image_array = np.asfarray(data[1:]).reshape((28, 28))\n",
    "    plt.imshow(image_array, cmap=\"Greys\", interpolation=\"None\")"
   ]
  },
  {
   "cell_type": "code",
   "execution_count": 97,
   "metadata": {},
   "outputs": [
    {
     "data": {
      "image/png": "[encoded data removed]",
      "text/plain": [
       "<Figure size 432x288 with 1 Axes>"
      ]
     },
     "metadata": {
      "needs_background": "light"
     },
     "output_type": "display_data"
    }
   ],
   "source": [
    "plot_handwriting(our_own_dataset[item])"
   ]
  },
  {
   "cell_type": "markdown",
   "metadata": {},
   "source": [
    "## Predict"
   ]
  },
  {
   "cell_type": "code",
   "execution_count": 98,
   "metadata": {},
   "outputs": [
    {
     "data": {
      "text/plain": [
       "2.0"
      ]
     },
     "execution_count": 98,
     "metadata": {},
     "output_type": "execute_result"
    }
   ],
   "source": [
    "expected_output = our_own_dataset[item][0]\n",
    "expected_output"
   ]
  },
  {
   "cell_type": "code",
   "execution_count": 99,
   "metadata": {},
   "outputs": [
    {
     "data": {
      "text/plain": [
       "array([[1.53897578e-03],\n",
       "       [1.28747232e-02],\n",
       "       [8.68838716e-01],\n",
       "       [5.53356054e-02],\n",
       "       [1.68322793e-02],\n",
       "       [4.36872405e-03],\n",
       "       [2.89136713e-05],\n",
       "       [1.50939311e-02],\n",
       "       [5.25431678e-06],\n",
       "       [2.58095306e-03]])"
      ]
     },
     "execution_count": 99,
     "metadata": {},
     "output_type": "execute_result"
    }
   ],
   "source": [
    "inputs = our_own_dataset[item][1:]\n",
    "\n",
    "# predict\n",
    "outputs = nn.query(inputs)\n",
    "outputs"
   ]
  },
  {
   "cell_type": "code",
   "execution_count": 100,
   "metadata": {},
   "outputs": [
    {
     "name": "stdout",
     "output_type": "stream",
     "text": [
      "Expected Output: '2.0', Actual Output: '2'\n",
      "Match!\n"
     ]
    },
    {
     "data": {
      "image/png": "[encoded data removed]",
      "text/plain": [
       "<Figure size 432x288 with 1 Axes>"
      ]
     },
     "metadata": {
      "needs_background": "light"
     },
     "output_type": "display_data"
    }
   ],
   "source": [
    "actual_output = np.argmax(outputs)\n",
    "print(f\"Expected Output: '{expected_output}', Actual Output: '{actual_output}'\")\n",
    "print(\"Match!\") if expected_output == actual_output else print(\"No Match!\")\n",
    "plot_handwriting(our_own_dataset[item])"
   ]
  },
  {
   "cell_type": "code",
   "execution_count": 101,
   "metadata": {},
   "outputs": [],
   "source": [
    "def compare(item):\n",
    "    expected_output = our_own_dataset[item][0]\n",
    "    inputs = our_own_dataset[item][1:]\n",
    "    \n",
    "    # predict\n",
    "    outputs = nn.query(inputs)\n",
    "    print(outputs)\n",
    "    actual_output = np.argmax(outputs)\n",
    "    \n",
    "    print(f\"Expected Output: '{expected_output}', Actual Output: '{actual_output}'\")\n",
    "    print(\"Match!\") if expected_output == actual_output else print(\"No Match!\")\n",
    "    plot_handwriting(our_own_dataset[item])"
   ]
  },
  {
   "cell_type": "code",
   "execution_count": 102,
   "metadata": {},
   "outputs": [
    {
     "name": "stdout",
     "output_type": "stream",
     "text": [
      "[[8.20840210e-03]\n",
      " [3.24249771e-03]\n",
      " [1.98440253e-03]\n",
      " [9.17714803e-01]\n",
      " [7.44775095e-04]\n",
      " [6.37468358e-02]\n",
      " [2.89384386e-03]\n",
      " [2.99508019e-03]\n",
      " [4.35492275e-04]\n",
      " [6.26758905e-04]]\n",
      "Expected Output: '3.0', Actual Output: '3'\n",
      "Match!\n"
     ]
    },
    {
     "data": {
      "image/png": "[encoded data removed]",
      "text/plain": [
       "<Figure size 432x288 with 1 Axes>"
      ]
     },
     "metadata": {
      "needs_background": "light"
     },
     "output_type": "display_data"
    }
   ],
   "source": [
    "compare(1)"
   ]
  },
  {
   "cell_type": "code",
   "execution_count": 103,
   "metadata": {},
   "outputs": [
    {
     "name": "stdout",
     "output_type": "stream",
     "text": [
      "[[6.65891508e-04]\n",
      " [7.34971106e-03]\n",
      " [3.84756504e-03]\n",
      " [9.74670494e-01]\n",
      " [1.35894420e-03]\n",
      " [1.11384390e-03]\n",
      " [2.86756405e-02]\n",
      " [6.25465840e-03]\n",
      " [8.10102143e-02]\n",
      " [1.35635802e-02]]\n",
      "Expected Output: '3.0', Actual Output: '3'\n",
      "Match!\n"
     ]
    },
    {
     "data": {
      "image/png": "[encoded data removed]",
      "text/plain": [
       "<Figure size 432x288 with 1 Axes>"
      ]
     },
     "metadata": {
      "needs_background": "light"
     },
     "output_type": "display_data"
    }
   ],
   "source": [
    "compare(2)"
   ]
  },
  {
   "cell_type": "code",
   "execution_count": 104,
   "metadata": {},
   "outputs": [
    {
     "name": "stdout",
     "output_type": "stream",
     "text": [
      "[[9.04909622e-04]\n",
      " [1.08164744e-03]\n",
      " [1.72024764e-01]\n",
      " [1.31930926e-03]\n",
      " [9.62175958e-01]\n",
      " [2.78464320e-02]\n",
      " [2.71672088e-02]\n",
      " [1.93871948e-03]\n",
      " [5.91989627e-04]\n",
      " [6.60652527e-04]]\n",
      "Expected Output: '4.0', Actual Output: '4'\n",
      "Match!\n"
     ]
    },
    {
     "data": {
      "image/png": "[encoded data removed]",
      "text/plain": [
       "<Figure size 432x288 with 1 Axes>"
      ]
     },
     "metadata": {
      "needs_background": "light"
     },
     "output_type": "display_data"
    }
   ],
   "source": [
    "compare(3)"
   ]
  },
  {
   "cell_type": "code",
   "execution_count": 105,
   "metadata": {},
   "outputs": [
    {
     "name": "stdout",
     "output_type": "stream",
     "text": [
      "[[2.30257330e-02]\n",
      " [1.31738333e-03]\n",
      " [8.83794493e-04]\n",
      " [1.15446857e-02]\n",
      " [3.46879945e-04]\n",
      " [7.37666614e-01]\n",
      " [4.46617166e-03]\n",
      " [1.63674013e-02]\n",
      " [3.96484216e-05]\n",
      " [4.88666811e-03]]\n",
      "Expected Output: '5.0', Actual Output: '5'\n",
      "Match!\n"
     ]
    },
    {
     "data": {
      "image/png": "[encoded data removed]",
      "text/plain": [
       "<Figure size 432x288 with 1 Axes>"
      ]
     },
     "metadata": {
      "needs_background": "light"
     },
     "output_type": "display_data"
    }
   ],
   "source": [
    "compare(4)"
   ]
  },
  {
   "cell_type": "code",
   "execution_count": 106,
   "metadata": {},
   "outputs": [
    {
     "name": "stdout",
     "output_type": "stream",
     "text": [
      "[[6.05924398e-03]\n",
      " [3.67492249e-02]\n",
      " [4.72810757e-04]\n",
      " [3.11757886e-02]\n",
      " [7.34264252e-03]\n",
      " [3.25955813e-02]\n",
      " [5.14006162e-01]\n",
      " [2.40948638e-02]\n",
      " [4.81210053e-03]\n",
      " [7.00831142e-03]]\n",
      "Expected Output: '6.0', Actual Output: '6'\n",
      "Match!\n"
     ]
    },
    {
     "data": {
      "image/png": "[encoded data removed]",
      "text/plain": [
       "<Figure size 432x288 with 1 Axes>"
      ]
     },
     "metadata": {
      "needs_background": "light"
     },
     "output_type": "display_data"
    }
   ],
   "source": [
    "compare(5)"
   ]
  },
  {
   "cell_type": "code",
   "execution_count": 107,
   "metadata": {},
   "outputs": [
    {
     "name": "stdout",
     "output_type": "stream",
     "text": [
      "[[0.08314984]\n",
      " [0.00739353]\n",
      " [0.05918249]\n",
      " [0.0500383 ]\n",
      " [0.0956382 ]\n",
      " [0.11816296]\n",
      " [0.0578345 ]\n",
      " [0.10828988]\n",
      " [0.75561879]\n",
      " [0.6802518 ]]\n",
      "Expected Output: '6.0', Actual Output: '8'\n",
      "No Match!\n"
     ]
    },
    {
     "data": {
      "image/png": "[encoded data removed]",
      "text/plain": [
       "<Figure size 432x288 with 1 Axes>"
      ]
     },
     "metadata": {
      "needs_background": "light"
     },
     "output_type": "display_data"
    }
   ],
   "source": [
    "compare(6)"
   ]
  },
  {
   "cell_type": "markdown",
   "metadata": {},
   "source": [
    "We can see that the neural network **recognised all of the images** we created, including the \n",
    "deliberately damaged “3”. Only the **“6” with added noise failed**."
   ]
  },
  {
   "cell_type": "markdown",
   "metadata": {},
   "source": [
    "## Additional Testing"
   ]
  },
  {
   "cell_type": "code",
   "execution_count": 108,
   "metadata": {},
   "outputs": [
    {
     "name": "stdout",
     "output_type": "stream",
     "text": [
      "[[2.39409260e-04]\n",
      " [1.05242128e-03]\n",
      " [4.01971329e-02]\n",
      " [1.09899779e-02]\n",
      " [2.02877166e-04]\n",
      " [2.72544983e-03]\n",
      " [3.24806690e-05]\n",
      " [8.43010002e-01]\n",
      " [8.25422110e-07]\n",
      " [4.89932421e-03]]\n",
      "Expected Output: '7.0', Actual Output: '7'\n",
      "Match!\n"
     ]
    },
    {
     "data": {
      "image/png": "[encoded data removed]",
      "text/plain": [
       "<Figure size 432x288 with 1 Axes>"
      ]
     },
     "metadata": {
      "needs_background": "light"
     },
     "output_type": "display_data"
    }
   ],
   "source": [
    "compare(7)"
   ]
  },
  {
   "cell_type": "code",
   "execution_count": 109,
   "metadata": {},
   "outputs": [
    {
     "name": "stdout",
     "output_type": "stream",
     "text": [
      "[[1.00381849e-04]\n",
      " [2.03252415e-03]\n",
      " [3.60794036e-03]\n",
      " [3.60598292e-03]\n",
      " [4.37412256e-02]\n",
      " [2.02682270e-03]\n",
      " [9.72198165e-04]\n",
      " [5.16409573e-01]\n",
      " [8.35972266e-07]\n",
      " [2.96234909e-03]]\n",
      "Expected Output: '7.0', Actual Output: '7'\n",
      "Match!\n"
     ]
    },
    {
     "data": {
      "image/png": "[encoded data removed]",
      "text/plain": [
       "<Figure size 432x288 with 1 Axes>"
      ]
     },
     "metadata": {
      "needs_background": "light"
     },
     "output_type": "display_data"
    }
   ],
   "source": [
    "compare(8)"
   ]
  },
  {
   "cell_type": "code",
   "execution_count": 110,
   "metadata": {},
   "outputs": [
    {
     "name": "stdout",
     "output_type": "stream",
     "text": [
      "[[0.00206983]\n",
      " [0.00243188]\n",
      " [0.01284643]\n",
      " [0.00037077]\n",
      " [0.00138382]\n",
      " [0.02743418]\n",
      " [0.01238941]\n",
      " [0.00189087]\n",
      " [0.05932688]\n",
      " [0.0034067 ]]\n",
      "Expected Output: '8.0', Actual Output: '8'\n",
      "Match!\n"
     ]
    },
    {
     "data": {
      "image/png": "[encoded data removed]",
      "text/plain": [
       "<Figure size 432x288 with 1 Axes>"
      ]
     },
     "metadata": {
      "needs_background": "light"
     },
     "output_type": "display_data"
    }
   ],
   "source": [
    "compare(9)"
   ]
  },
  {
   "cell_type": "code",
   "execution_count": 111,
   "metadata": {},
   "outputs": [
    {
     "name": "stdout",
     "output_type": "stream",
     "text": [
      "[[0.00411848]\n",
      " [0.00058493]\n",
      " [0.00535231]\n",
      " [0.03988873]\n",
      " [0.00943741]\n",
      " [0.02284338]\n",
      " [0.00285091]\n",
      " [0.0065172 ]\n",
      " [0.00169866]\n",
      " [0.30765235]]\n",
      "Expected Output: '9.0', Actual Output: '9'\n",
      "Match!\n"
     ]
    },
    {
     "data": {
      "image/png": "[encoded data removed]",
      "text/plain": [
       "<Figure size 432x288 with 1 Axes>"
      ]
     },
     "metadata": {
      "needs_background": "light"
     },
     "output_type": "display_data"
    }
   ],
   "source": [
    "compare(10)"
   ]
  },
  {
   "cell_type": "code",
   "execution_count": 500,
   "metadata": {},
   "outputs": [
    {
     "name": "stdout",
     "output_type": "stream",
     "text": [
      "[0.01 0.01 0.01 0.99 0.01 0.01 0.01 0.01 0.01 0.01]\n"
     ]
    },
    {
     "data": {
      "image/png": "[encoded data removed]",
      "text/plain": [
       "<Figure size 432x288 with 1 Axes>"
      ]
     },
     "metadata": {
      "needs_background": "light"
     },
     "output_type": "display_data"
    }
   ],
   "source": [
    "input = 3\n",
    "output_nodes = 10 # because 0-9\n",
    "targets = np.zeros(output_nodes) + 0.01\n",
    "targets[input] = 0.99\n",
    "print(targets)\n",
    "image_data = nn.back_query(targets) # back querying\n",
    "plt.imshow(image_data.reshape(28,28),\n",
    "           cmap='Greys',\n",
    "           interpolation='None') # plot the image\n",
    "plt.show()"
   ]
  },
  {
   "cell_type": "code",
   "execution_count": 501,
   "metadata": {},
   "outputs": [
    {
     "name": "stdout",
     "output_type": "stream",
     "text": [
      "3\n"
     ]
    }
   ],
   "source": [
    "inputs = our_own_dataset[2][1:]\n",
    "\n",
    "# predict\n",
    "outputs = nn.query(inputs)\n",
    "actual_output = np.argmax(outputs)\n",
    "print(actual_output)"
   ]
  }
 ],
 "metadata": {
  "kernelspec": {
   "display_name": "Python 3.10.1 ('venv': venv)",
   "language": "python",
   "name": "python3"
  },
  "language_info": {
   "codemirror_mode": {
    "name": "ipython",
    "version": 3
   },
   "file_extension": ".py",
   "mimetype": "text/x-python",
   "name": "python",
   "nbconvert_exporter": "python",
   "pygments_lexer": "ipython3",
   "version": "3.10.1"
  },
  "orig_nbformat": 4,
  "vscode": {
   "interpreter": {
    "hash": "f69896a7a749cbfef4460cacf7f4b1827fe60c5c1c72b03e1403b1f074026c7c"
   }
  }
 },
 "nbformat": 4,
 "nbformat_minor": 2
}
